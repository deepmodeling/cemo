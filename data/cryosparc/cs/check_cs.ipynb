{
 "cells": [
  {
   "cell_type": "code",
   "execution_count": 37,
   "id": "338742aa-b41a-4ee0-aa94-e0941286b6fd",
   "metadata": {},
   "outputs": [],
   "source": [
    "import numpy as np\n",
    "import numpy\n",
    "from numpy.random import MT19937\n",
    "from numpy.random import RandomState, SeedSequence\n",
    "import os\n",
    "from pprint import pprint"
   ]
  },
  {
   "cell_type": "code",
   "execution_count": 3,
   "id": "7b101a91-edf2-4c29-9d39-14c026902152",
   "metadata": {},
   "outputs": [],
   "source": [
    "f_in = \"7eu7_P_res2.5_apix1_D256.cs\""
   ]
  },
  {
   "cell_type": "code",
   "execution_count": 4,
   "id": "a6336f7e-7958-4e6b-b8f8-b0362123656a",
   "metadata": {},
   "outputs": [],
   "source": [
    "cs_in = np.load(f_in)"
   ]
  },
  {
   "cell_type": "code",
   "execution_count": 5,
   "id": "e5517a1b-8154-4137-9fc7-8e95d65408d3",
   "metadata": {},
   "outputs": [
    {
     "data": {
      "text/plain": [
       "array([(11124602343295557556, b'J443/simulated_particles.mrcs',    0, [256, 256], 1., 1., 0, b'', 0, 300., 2.7, 0.07, 18617.574, 18851.084, 0.72282326, 0., 1., 0., [0., 0.], [0., 0.], [0., 0.], [0., 0., 0., 0.], [0., 0., 0., 0.], 0., 0, [0., 0.], [ 1.3463968 , -1.3463968 ,  0.44879895], 0., 0., 0., 0., 0., 0., 0., 1., 0., 0., 0., 0., 0., 0, 0., [0., 0., 0.], [0., 0.], [0., 0., 0.]),\n",
       "       ( 4784037077488378550, b'J443/simulated_particles.mrcs',    1, [256, 256], 1., 1., 0, b'', 0, 300., 2.7, 0.07, 19029.355, 19329.691, 0.49533406, 0., 1., 0., [0., 0.], [0., 0.], [0., 0.], [0., 0., 0., 0.], [0., 0., 0., 0.], 0., 0, [0., 0.], [ 2.2439947 , -0.44879895,  3.1415927 ], 0., 0., 0., 0., 0., 0., 0., 1., 0., 0., 0., 0., 0., 0, 0., [0., 0., 0.], [0., 0.], [0., 0., 0.]),\n",
       "       ( 5137873220141739227, b'J443/simulated_particles.mrcs',    2, [256, 256], 1., 1., 0, b'', 0, 300., 2.7, 0.07, 17068.236, 17170.06 , 0.4674732 , 0., 1., 0., [0., 0.], [0., 0.], [0., 0.], [0., 0., 0., 0.], [0., 0., 0., 0.], 0., 0, [0., 0.], [ 2.2439947 ,  2.2439947 , -0.44879895], 0., 0., 0., 0., 0., 0., 0., 1., 0., 0., 0., 0., 0., 0, 0., [0., 0., 0.], [0., 0.], [0., 0., 0.]),\n",
       "       ...,\n",
       "       ( 3153443244534949354, b'J443/simulated_particles.mrcs', 9997, [256, 256], 1., 1., 0, b'', 0, 300., 2.7, 0.07, 17114.568, 17271.955, 0.9734082 , 0., 1., 0., [0., 0.], [0., 0.], [0., 0.], [0., 0., 0., 0.], [0., 0., 0., 0.], 0., 0, [0., 0.], [ 1.3463968 ,  1.3463968 ,  1.3463968 ], 0., 0., 0., 0., 0., 0., 0., 1., 0., 0., 0., 0., 0., 0, 0., [0., 0., 0.], [0., 0.], [0., 0., 0.]),\n",
       "       (16234273200688899930, b'J443/simulated_particles.mrcs', 9998, [256, 256], 1., 1., 0, b'', 0, 300., 2.7, 0.07, 16974.562, 17451.756, 0.3806988 , 0., 1., 0., [0., 0.], [0., 0.], [0., 0.], [0., 0., 0., 0.], [0., 0., 0., 0.], 0., 0, [0., 0.], [-1.3463968 , -0.44879895, -0.44879895], 0., 0., 0., 0., 0., 0., 0., 1., 0., 0., 0., 0., 0., 0, 0., [0., 0., 0.], [0., 0.], [0., 0., 0.]),\n",
       "       ( 2908825866887031833, b'J443/simulated_particles.mrcs', 9999, [256, 256], 1., 1., 0, b'', 0, 300., 2.7, 0.07, 18403.002, 18580.156, 0.35578632, 0., 1., 0., [0., 0.], [0., 0.], [0., 0.], [0., 0., 0., 0.], [0., 0., 0., 0.], 0., 0, [0., 0.], [ 3.1415927 ,  0.44879895,  2.2439947 ], 0., 0., 0., 0., 0., 0., 0., 1., 0., 0., 0., 0., 0., 0, 0., [0., 0., 0.], [0., 0.], [0., 0., 0.])],\n",
       "      dtype=[('uid', '<u8'), ('blob/path', 'S30'), ('blob/idx', '<u4'), ('blob/shape', '<u4', (2,)), ('blob/psize_A', '<f4'), ('blob/sign', '<f4'), ('blob/import_sig', '<u8'), ('ctf/type', 'S1'), ('ctf/exp_group_id', '<u4'), ('ctf/accel_kv', '<f4'), ('ctf/cs_mm', '<f4'), ('ctf/amp_contrast', '<f4'), ('ctf/df1_A', '<f4'), ('ctf/df2_A', '<f4'), ('ctf/df_angle_rad', '<f4'), ('ctf/phase_shift_rad', '<f4'), ('ctf/scale', '<f4'), ('ctf/scale_const', '<f4'), ('ctf/shift_A', '<f4', (2,)), ('ctf/tilt_A', '<f4', (2,)), ('ctf/trefoil_A', '<f4', (2,)), ('ctf/tetra_A', '<f4', (4,)), ('ctf/anisomag', '<f4', (4,)), ('ctf/bfactor', '<f4'), ('alignments3D/split', '<u4'), ('alignments3D/shift', '<f4', (2,)), ('alignments3D/pose', '<f4', (3,)), ('alignments3D/psize_A', '<f4'), ('alignments3D/error', '<f4'), ('alignments3D/error_min', '<f4'), ('alignments3D/resid_pow', '<f4'), ('alignments3D/slice_pow', '<f4'), ('alignments3D/image_pow', '<f4'), ('alignments3D/cross_cor', '<f4'), ('alignments3D/alpha', '<f4'), ('alignments3D/alpha_min', '<f4'), ('alignments3D/weight', '<f4'), ('alignments3D/pose_ess', '<f4'), ('alignments3D/shift_ess', '<f4'), ('alignments3D/class_posterior', '<f4'), ('alignments3D/class', '<u4'), ('alignments3D/class_ess', '<f4'), ('alignments3D/localpose', '<f4', (3,)), ('alignments3D/localshift', '<f4', (2,)), ('alignments3D/localfulcrum', '<f4', (3,))])"
      ]
     },
     "execution_count": 5,
     "metadata": {},
     "output_type": "execute_result"
    }
   ],
   "source": [
    "cs_in"
   ]
  },
  {
   "cell_type": "code",
   "execution_count": 6,
   "id": "ecfc8001",
   "metadata": {},
   "outputs": [
    {
     "data": {
      "text/plain": [
       "45"
      ]
     },
     "execution_count": 6,
     "metadata": {},
     "output_type": "execute_result"
    }
   ],
   "source": [
    "len(cs_in[0])"
   ]
  },
  {
   "cell_type": "code",
   "execution_count": 7,
   "id": "d944b821-04b2-4b4b-abb2-9c3c21ddca19",
   "metadata": {},
   "outputs": [
    {
     "data": {
      "text/plain": [
       "numpy.ndarray"
      ]
     },
     "execution_count": 7,
     "metadata": {},
     "output_type": "execute_result"
    }
   ],
   "source": [
    "type(cs_in)"
   ]
  },
  {
   "cell_type": "code",
   "execution_count": 8,
   "id": "ee4006d8-72d0-46a3-8976-a274d266afb5",
   "metadata": {},
   "outputs": [
    {
     "data": {
      "text/plain": [
       "dtype([('uid', '<u8'), ('blob/path', 'S30'), ('blob/idx', '<u4'), ('blob/shape', '<u4', (2,)), ('blob/psize_A', '<f4'), ('blob/sign', '<f4'), ('blob/import_sig', '<u8'), ('ctf/type', 'S1'), ('ctf/exp_group_id', '<u4'), ('ctf/accel_kv', '<f4'), ('ctf/cs_mm', '<f4'), ('ctf/amp_contrast', '<f4'), ('ctf/df1_A', '<f4'), ('ctf/df2_A', '<f4'), ('ctf/df_angle_rad', '<f4'), ('ctf/phase_shift_rad', '<f4'), ('ctf/scale', '<f4'), ('ctf/scale_const', '<f4'), ('ctf/shift_A', '<f4', (2,)), ('ctf/tilt_A', '<f4', (2,)), ('ctf/trefoil_A', '<f4', (2,)), ('ctf/tetra_A', '<f4', (4,)), ('ctf/anisomag', '<f4', (4,)), ('ctf/bfactor', '<f4'), ('alignments3D/split', '<u4'), ('alignments3D/shift', '<f4', (2,)), ('alignments3D/pose', '<f4', (3,)), ('alignments3D/psize_A', '<f4'), ('alignments3D/error', '<f4'), ('alignments3D/error_min', '<f4'), ('alignments3D/resid_pow', '<f4'), ('alignments3D/slice_pow', '<f4'), ('alignments3D/image_pow', '<f4'), ('alignments3D/cross_cor', '<f4'), ('alignments3D/alpha', '<f4'), ('alignments3D/alpha_min', '<f4'), ('alignments3D/weight', '<f4'), ('alignments3D/pose_ess', '<f4'), ('alignments3D/shift_ess', '<f4'), ('alignments3D/class_posterior', '<f4'), ('alignments3D/class', '<u4'), ('alignments3D/class_ess', '<f4'), ('alignments3D/localpose', '<f4', (3,)), ('alignments3D/localshift', '<f4', (2,)), ('alignments3D/localfulcrum', '<f4', (3,))])"
      ]
     },
     "execution_count": 8,
     "metadata": {},
     "output_type": "execute_result"
    }
   ],
   "source": [
    "cs_in.dtype"
   ]
  },
  {
   "cell_type": "code",
   "execution_count": 40,
   "id": "b0c8daf7-8a19-48b0-aa0e-48024d8d7779",
   "metadata": {},
   "outputs": [
    {
     "name": "stdout",
     "output_type": "stream",
     "text": [
      "('uid',\n",
      " 'blob/path',\n",
      " 'blob/idx',\n",
      " 'blob/shape',\n",
      " 'blob/psize_A',\n",
      " 'blob/sign',\n",
      " 'blob/import_sig',\n",
      " 'ctf/type',\n",
      " 'ctf/exp_group_id',\n",
      " 'ctf/accel_kv',\n",
      " 'ctf/cs_mm',\n",
      " 'ctf/amp_contrast',\n",
      " 'ctf/df1_A',\n",
      " 'ctf/df2_A',\n",
      " 'ctf/df_angle_rad',\n",
      " 'ctf/phase_shift_rad',\n",
      " 'ctf/scale',\n",
      " 'ctf/scale_const',\n",
      " 'ctf/shift_A',\n",
      " 'ctf/tilt_A',\n",
      " 'ctf/trefoil_A',\n",
      " 'ctf/tetra_A',\n",
      " 'ctf/anisomag',\n",
      " 'ctf/bfactor',\n",
      " 'alignments3D/split',\n",
      " 'alignments3D/shift',\n",
      " 'alignments3D/pose',\n",
      " 'alignments3D/psize_A',\n",
      " 'alignments3D/error',\n",
      " 'alignments3D/error_min',\n",
      " 'alignments3D/resid_pow',\n",
      " 'alignments3D/slice_pow',\n",
      " 'alignments3D/image_pow',\n",
      " 'alignments3D/cross_cor',\n",
      " 'alignments3D/alpha',\n",
      " 'alignments3D/alpha_min',\n",
      " 'alignments3D/weight',\n",
      " 'alignments3D/pose_ess',\n",
      " 'alignments3D/shift_ess',\n",
      " 'alignments3D/class_posterior',\n",
      " 'alignments3D/class',\n",
      " 'alignments3D/class_ess',\n",
      " 'alignments3D/localpose',\n",
      " 'alignments3D/localshift',\n",
      " 'alignments3D/localfulcrum')\n",
      "45\n"
     ]
    }
   ],
   "source": [
    "pprint(cs_in.dtype.names)\n",
    "print(len(cs_in.dtype.names))\n",
    "\n"
   ]
  },
  {
   "cell_type": "code",
   "execution_count": 44,
   "id": "b4d593b3",
   "metadata": {},
   "outputs": [
    {
     "data": {
      "text/plain": [
       "array([18617.574, 19029.355, 17068.236], dtype=float32)"
      ]
     },
     "execution_count": 44,
     "metadata": {},
     "output_type": "execute_result"
    }
   ],
   "source": [
    "cs_in[\"ctf/df1_A\"][:3]"
   ]
  },
  {
   "cell_type": "code",
   "execution_count": 45,
   "id": "618f2535",
   "metadata": {},
   "outputs": [
    {
     "data": {
      "text/plain": [
       "array([18851.084, 19329.691, 17170.06 ], dtype=float32)"
      ]
     },
     "execution_count": 45,
     "metadata": {},
     "output_type": "execute_result"
    }
   ],
   "source": [
    "cs_in[\"ctf/df2_A\"][:3]"
   ]
  },
  {
   "cell_type": "code",
   "execution_count": 41,
   "id": "f9953634",
   "metadata": {},
   "outputs": [
    {
     "data": {
      "text/plain": [
       "array([0., 0., 0., ..., 0., 0., 0.], dtype=float32)"
      ]
     },
     "execution_count": 41,
     "metadata": {},
     "output_type": "execute_result"
    }
   ],
   "source": [
    "cs_in[\"ctf/bfactor\"]"
   ]
  },
  {
   "cell_type": "code",
   "execution_count": 10,
   "id": "ec84a994-fb26-4ea2-a3bb-5adaac296177",
   "metadata": {},
   "outputs": [
    {
     "data": {
      "text/plain": [
       "dtype(('<f4', (3,)))"
      ]
     },
     "execution_count": 10,
     "metadata": {},
     "output_type": "execute_result"
    }
   ],
   "source": [
    "cs_in.dtype[\"alignments3D/pose\"]\n"
   ]
  },
  {
   "cell_type": "code",
   "execution_count": 11,
   "id": "9a747ca1-9cea-406a-8e04-7e7ed2e1ede2",
   "metadata": {},
   "outputs": [
    {
     "data": {
      "text/plain": [
       "array([ 1.3463968 , -1.3463968 ,  0.44879895], dtype=float32)"
      ]
     },
     "execution_count": 11,
     "metadata": {},
     "output_type": "execute_result"
    }
   ],
   "source": [
    "cs_in[0][\"alignments3D/pose\"]"
   ]
  },
  {
   "cell_type": "code",
   "execution_count": 12,
   "id": "120fc913-4f5b-4afe-84d2-5a76f5f6de74",
   "metadata": {},
   "outputs": [
    {
     "data": {
      "text/plain": [
       "10000"
      ]
     },
     "execution_count": 12,
     "metadata": {},
     "output_type": "execute_result"
    }
   ],
   "source": [
    "len(cs_in)"
   ]
  },
  {
   "cell_type": "code",
   "execution_count": 13,
   "id": "5b54f82e-b3cc-463f-b355-795e4cbca33d",
   "metadata": {},
   "outputs": [
    {
     "data": {
      "text/plain": [
       "10000"
      ]
     },
     "execution_count": 13,
     "metadata": {},
     "output_type": "execute_result"
    }
   ],
   "source": [
    "cs_in.shape[0]"
   ]
  },
  {
   "cell_type": "code",
   "execution_count": 14,
   "id": "aacdf0b7-af54-4858-a9d9-b4db002b2f72",
   "metadata": {},
   "outputs": [
    {
     "data": {
      "text/plain": [
       "array([ 1.3463968 , -1.3463968 ,  0.44879895], dtype=float32)"
      ]
     },
     "execution_count": 14,
     "metadata": {},
     "output_type": "execute_result"
    }
   ],
   "source": [
    "cs_in[0][\"alignments3D/pose\"]"
   ]
  },
  {
   "cell_type": "code",
   "execution_count": 15,
   "id": "a7c473a2-93d7-4bc7-a951-1fd0c40ddae3",
   "metadata": {},
   "outputs": [
    {
     "data": {
      "text/plain": [
       "array([-0.43411991, -0.47617187,  0.81874471])"
      ]
     },
     "execution_count": 15,
     "metadata": {},
     "output_type": "execute_result"
    }
   ],
   "source": [
    "# np.random.seed(None)\n",
    "rs = RandomState(MT19937(SeedSequence(123456789)))\n",
    "rs.normal(loc=0.0, scale=1.0, size=(3,))\n"
   ]
  },
  {
   "cell_type": "code",
   "execution_count": 16,
   "id": "0c42670a-c818-4510-9d72-f75d6e940c79",
   "metadata": {},
   "outputs": [],
   "source": [
    "# rs.get_state()"
   ]
  },
  {
   "cell_type": "code",
   "execution_count": 17,
   "id": "eff5b1bf-29a8-4eb4-b5d0-b8fdec8a09ca",
   "metadata": {},
   "outputs": [],
   "source": [
    "angles = np.concatenate([cs_in[i][\"alignments3D/pose\"] for i in range(cs_in.shape[0])])"
   ]
  },
  {
   "cell_type": "code",
   "execution_count": 18,
   "id": "fb8ac98f-a417-409d-91f5-c03a795a751d",
   "metadata": {},
   "outputs": [
    {
     "data": {
      "text/plain": [
       "-0.011010533"
      ]
     },
     "execution_count": 18,
     "metadata": {},
     "output_type": "execute_result"
    }
   ],
   "source": [
    "angles.mean()"
   ]
  },
  {
   "cell_type": "code",
   "execution_count": 19,
   "id": "e13214be-0de9-4f15-9a78-6e0eb7db8225",
   "metadata": {},
   "outputs": [
    {
     "data": {
      "text/plain": [
       "1.7740637"
      ]
     },
     "execution_count": 19,
     "metadata": {},
     "output_type": "execute_result"
    }
   ],
   "source": [
    "angles.std()"
   ]
  },
  {
   "cell_type": "code",
   "execution_count": 20,
   "id": "5c895ec6-ea4f-4067-92cb-b2dc4a151ad9",
   "metadata": {},
   "outputs": [],
   "source": [
    "x0 = 1\n"
   ]
  },
  {
   "cell_type": "code",
   "execution_count": 21,
   "id": "9c84264a-4715-43bd-a354-1ffc66b19b67",
   "metadata": {},
   "outputs": [],
   "source": [
    "x0 += 1"
   ]
  },
  {
   "cell_type": "code",
   "execution_count": 22,
   "id": "7e1e94c5-5443-4d53-a929-ecb86868b467",
   "metadata": {},
   "outputs": [
    {
     "data": {
      "text/plain": [
       "2"
      ]
     },
     "execution_count": 22,
     "metadata": {},
     "output_type": "execute_result"
    }
   ],
   "source": [
    "x0"
   ]
  },
  {
   "cell_type": "code",
   "execution_count": 23,
   "id": "7a5b1434-858e-47ef-be3b-ea69990ef6f9",
   "metadata": {},
   "outputs": [
    {
     "data": {
      "text/plain": [
       "'/Users/steven/repo/cemo/data/cryosparc/cs'"
      ]
     },
     "execution_count": 23,
     "metadata": {},
     "output_type": "execute_result"
    }
   ],
   "source": [
    "%pwd"
   ]
  },
  {
   "cell_type": "code",
   "execution_count": 24,
   "id": "d064551f-8355-4f73-91f3-30b5f2e05259",
   "metadata": {},
   "outputs": [
    {
     "data": {
      "text/plain": [
       "array([(11124602343295557556, b'J443/simulated_particles.mrcs', 0, [256, 256], 1., 1., 0, b'', 0, 300., 2.7, 0.07, 18617.574, 18851.084, 0.72282326, 0., 1., 0., [0., 0.], [0., 0.], [0., 0.], [0., 0., 0., 0.], [0., 0., 0., 0.], 0., 0, [0., 0.], [ 1.3463968 , -1.3463968 ,  0.44879895], 0., 0., 0., 0., 0., 0., 0., 1., 0., 0., 0., 0., 0., 0, 0., [0., 0., 0.], [0., 0.], [0., 0., 0.])],\n",
       "      dtype=[('uid', '<u8'), ('blob/path', 'S30'), ('blob/idx', '<u4'), ('blob/shape', '<u4', (2,)), ('blob/psize_A', '<f4'), ('blob/sign', '<f4'), ('blob/import_sig', '<u8'), ('ctf/type', 'S1'), ('ctf/exp_group_id', '<u4'), ('ctf/accel_kv', '<f4'), ('ctf/cs_mm', '<f4'), ('ctf/amp_contrast', '<f4'), ('ctf/df1_A', '<f4'), ('ctf/df2_A', '<f4'), ('ctf/df_angle_rad', '<f4'), ('ctf/phase_shift_rad', '<f4'), ('ctf/scale', '<f4'), ('ctf/scale_const', '<f4'), ('ctf/shift_A', '<f4', (2,)), ('ctf/tilt_A', '<f4', (2,)), ('ctf/trefoil_A', '<f4', (2,)), ('ctf/tetra_A', '<f4', (4,)), ('ctf/anisomag', '<f4', (4,)), ('ctf/bfactor', '<f4'), ('alignments3D/split', '<u4'), ('alignments3D/shift', '<f4', (2,)), ('alignments3D/pose', '<f4', (3,)), ('alignments3D/psize_A', '<f4'), ('alignments3D/error', '<f4'), ('alignments3D/error_min', '<f4'), ('alignments3D/resid_pow', '<f4'), ('alignments3D/slice_pow', '<f4'), ('alignments3D/image_pow', '<f4'), ('alignments3D/cross_cor', '<f4'), ('alignments3D/alpha', '<f4'), ('alignments3D/alpha_min', '<f4'), ('alignments3D/weight', '<f4'), ('alignments3D/pose_ess', '<f4'), ('alignments3D/shift_ess', '<f4'), ('alignments3D/class_posterior', '<f4'), ('alignments3D/class', '<u4'), ('alignments3D/class_ess', '<f4'), ('alignments3D/localpose', '<f4', (3,)), ('alignments3D/localshift', '<f4', (2,)), ('alignments3D/localfulcrum', '<f4', (3,))])"
      ]
     },
     "execution_count": 24,
     "metadata": {},
     "output_type": "execute_result"
    }
   ],
   "source": [
    "cs_in[:1]"
   ]
  },
  {
   "cell_type": "code",
   "execution_count": 25,
   "id": "84b5355e-3e57-4823-802c-a4ddfbad3cc3",
   "metadata": {},
   "outputs": [],
   "source": [
    "num_items = 10\n",
    "f_out = f\"test_cs_{num_items}_item.cs\"\n",
    "with open(f_out, \"wb\") as OUT:\n",
    "    np.save(OUT, cs_in[:num_items])"
   ]
  },
  {
   "cell_type": "code",
   "execution_count": 26,
   "id": "1bb8ddc2-82c2-4e5f-b09d-e944d12aaad9",
   "metadata": {},
   "outputs": [
    {
     "name": "stdout",
     "output_type": "stream",
     "text": [
      "7eu7_P_res2.5_apix1_D256.cs  test_cs_1_item.cs\n",
      "check_cs.ipynb               test_cs_3_item.cs\n",
      "test_cs_10_item.cs           two_snr1000_500.cs\n"
     ]
    }
   ],
   "source": [
    "%ls\n"
   ]
  },
  {
   "cell_type": "code",
   "execution_count": 27,
   "id": "cf2c8d5d-58eb-4c20-8064-6ed5942739d7",
   "metadata": {},
   "outputs": [],
   "source": [
    "x1 = np.load(\"test_cs_1_item.cs\")"
   ]
  },
  {
   "cell_type": "code",
   "execution_count": 28,
   "id": "bbdd7980-8a16-4852-92aa-4cd7955112b8",
   "metadata": {},
   "outputs": [
    {
     "data": {
      "text/plain": [
       "array([(11124602343295557556, b'J443/simulated_particles.mrcs', 0, [256, 256], 1., 1., 0, b'', 0, 300., 2.7, 0.07, 18617.574, 18851.084, 0.72282326, 0., 1., 0., [0., 0.], [0., 0.], [0., 0.], [0., 0., 0., 0.], [0., 0., 0., 0.], 0., 0, [0., 0.], [ 1.3463968 , -1.3463968 ,  0.44879895], 0., 0., 0., 0., 0., 0., 0., 1., 0., 0., 0., 0., 0., 0, 0., [0., 0., 0.], [0., 0.], [0., 0., 0.])],\n",
       "      dtype=[('uid', '<u8'), ('blob/path', 'S30'), ('blob/idx', '<u4'), ('blob/shape', '<u4', (2,)), ('blob/psize_A', '<f4'), ('blob/sign', '<f4'), ('blob/import_sig', '<u8'), ('ctf/type', 'S1'), ('ctf/exp_group_id', '<u4'), ('ctf/accel_kv', '<f4'), ('ctf/cs_mm', '<f4'), ('ctf/amp_contrast', '<f4'), ('ctf/df1_A', '<f4'), ('ctf/df2_A', '<f4'), ('ctf/df_angle_rad', '<f4'), ('ctf/phase_shift_rad', '<f4'), ('ctf/scale', '<f4'), ('ctf/scale_const', '<f4'), ('ctf/shift_A', '<f4', (2,)), ('ctf/tilt_A', '<f4', (2,)), ('ctf/trefoil_A', '<f4', (2,)), ('ctf/tetra_A', '<f4', (4,)), ('ctf/anisomag', '<f4', (4,)), ('ctf/bfactor', '<f4'), ('alignments3D/split', '<u4'), ('alignments3D/shift', '<f4', (2,)), ('alignments3D/pose', '<f4', (3,)), ('alignments3D/psize_A', '<f4'), ('alignments3D/error', '<f4'), ('alignments3D/error_min', '<f4'), ('alignments3D/resid_pow', '<f4'), ('alignments3D/slice_pow', '<f4'), ('alignments3D/image_pow', '<f4'), ('alignments3D/cross_cor', '<f4'), ('alignments3D/alpha', '<f4'), ('alignments3D/alpha_min', '<f4'), ('alignments3D/weight', '<f4'), ('alignments3D/pose_ess', '<f4'), ('alignments3D/shift_ess', '<f4'), ('alignments3D/class_posterior', '<f4'), ('alignments3D/class', '<u4'), ('alignments3D/class_ess', '<f4'), ('alignments3D/localpose', '<f4', (3,)), ('alignments3D/localshift', '<f4', (2,)), ('alignments3D/localfulcrum', '<f4', (3,))])"
      ]
     },
     "execution_count": 28,
     "metadata": {},
     "output_type": "execute_result"
    }
   ],
   "source": [
    "x1"
   ]
  },
  {
   "cell_type": "code",
   "execution_count": 29,
   "id": "fd8a969b-a5f8-448f-8b92-96a2d0a22a51",
   "metadata": {},
   "outputs": [
    {
     "data": {
      "text/plain": [
       "'../../..'"
      ]
     },
     "execution_count": 29,
     "metadata": {},
     "output_type": "execute_result"
    }
   ],
   "source": [
    "os.path.join(*[\"..\"]*3)"
   ]
  },
  {
   "cell_type": "code",
   "execution_count": 30,
   "id": "bf259071-2d90-4f0b-8255-78374b08c7b0",
   "metadata": {},
   "outputs": [],
   "source": [
    "shape = (10,)\n",
    "dtype = [\n",
    "        ('df1_A', '<f4'),\n",
    "        ('df2_A', '<f4'),\n",
    "        ('df_angle_rad', '<f4'),\n",
    "        ('accel_kv', '<f4'),\n",
    "        ('cs_mm', '<f4'),\n",
    "        ('amp_contrast', '<f4'),\n",
    "        ('phase_shift_rad', '<f4'),\n",
    "    ]\n",
    "ctf_params = numpy.recarray(shape, dtype=dtype)"
   ]
  },
  {
   "cell_type": "code",
   "execution_count": 31,
   "id": "21f862d9",
   "metadata": {},
   "outputs": [
    {
     "data": {
      "text/plain": [
       "(10,)"
      ]
     },
     "execution_count": 31,
     "metadata": {},
     "output_type": "execute_result"
    }
   ],
   "source": [
    "ctf_params.shape"
   ]
  },
  {
   "cell_type": "code",
   "execution_count": 32,
   "id": "a93d8408",
   "metadata": {},
   "outputs": [
    {
     "data": {
      "text/plain": [
       "('df1_A',\n",
       " 'df2_A',\n",
       " 'df_angle_rad',\n",
       " 'accel_kv',\n",
       " 'cs_mm',\n",
       " 'amp_contrast',\n",
       " 'phase_shift_rad')"
      ]
     },
     "execution_count": 32,
     "metadata": {},
     "output_type": "execute_result"
    }
   ],
   "source": [
    "ctf_params.dtype.names"
   ]
  },
  {
   "cell_type": "code",
   "execution_count": 33,
   "id": "0b7f0e92",
   "metadata": {},
   "outputs": [
    {
     "data": {
      "text/plain": [
       "dtype((numpy.record, [('df1_A', '<f4'), ('df2_A', '<f4'), ('df_angle_rad', '<f4'), ('accel_kv', '<f4'), ('cs_mm', '<f4'), ('amp_contrast', '<f4'), ('phase_shift_rad', '<f4')]))"
      ]
     },
     "execution_count": 33,
     "metadata": {},
     "output_type": "execute_result"
    }
   ],
   "source": [
    "ctf_params.dtype"
   ]
  },
  {
   "cell_type": "code",
   "execution_count": null,
   "id": "c7b4de1d",
   "metadata": {},
   "outputs": [],
   "source": []
  },
  {
   "cell_type": "code",
   "execution_count": 34,
   "id": "5af78105",
   "metadata": {},
   "outputs": [
    {
     "data": {
      "text/plain": [
       "7"
      ]
     },
     "execution_count": 34,
     "metadata": {},
     "output_type": "execute_result"
    }
   ],
   "source": [
    "len(ctf_params[0])"
   ]
  },
  {
   "cell_type": "code",
   "execution_count": 35,
   "id": "313a4019",
   "metadata": {},
   "outputs": [
    {
     "data": {
      "text/plain": [
       "(10,)"
      ]
     },
     "execution_count": 35,
     "metadata": {},
     "output_type": "execute_result"
    }
   ],
   "source": [
    "ctf_params.df1_A.shape"
   ]
  },
  {
   "cell_type": "code",
   "execution_count": 36,
   "id": "7bc4100e",
   "metadata": {},
   "outputs": [
    {
     "data": {
      "text/plain": [
       "list"
      ]
     },
     "execution_count": 36,
     "metadata": {},
     "output_type": "execute_result"
    }
   ],
   "source": [
    "type(list(ctf_params.dtype.names))"
   ]
  },
  {
   "cell_type": "code",
   "execution_count": null,
   "id": "227886a0",
   "metadata": {},
   "outputs": [],
   "source": []
  }
 ],
 "metadata": {
  "kernelspec": {
   "display_name": "Python 3",
   "language": "python",
   "name": "python3"
  },
  "language_info": {
   "codemirror_mode": {
    "name": "ipython",
    "version": 3
   },
   "file_extension": ".py",
   "mimetype": "text/x-python",
   "name": "python",
   "nbconvert_exporter": "python",
   "pygments_lexer": "ipython3",
   "version": "3.10.5"
  }
 },
 "nbformat": 4,
 "nbformat_minor": 5
}
